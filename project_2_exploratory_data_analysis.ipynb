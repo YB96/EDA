{
 "cells": [
  {
   "cell_type": "code",
   "execution_count": null,
   "metadata": {
    "id": "26qlJzETBeW3"
   },
   "outputs": [],
   "source": [
    "# Jovian Commit Essentials\n",
    "# Please retain and execute this cell without modifying the contents for `jovian.commit` to work\n",
    "!pip install jovian --upgrade -q\n",
    "import jovian\n",
    "jovian.set_project('project-2-exploratory-data-analysis')\n",
    "jovian.set_colab_id('19r_ibZhh8ba2zZIyOGTphyd4hfml26en')"
   ]
  },
  {
   "cell_type": "markdown",
   "metadata": {
    "id": "qPMGtJIHofrA"
   },
   "source": [
    "# EDA on Brazilian E-Commerce Olist"
   ]
  },
  {
   "cell_type": "markdown",
   "metadata": {
    "id": "fom7AlMz9ZOA"
   },
   "source": [
    "### How to run the code\n",
    "\n",
    "This tutorial is an executable [Jupyter notebook](https://jupyter.org) hosted on [Jovian](https://www.jovian.ai). You can _run_ this tutorial and experiment with the code examples in a couple of ways: *using free online resources* (recommended) or *on your computer*.\n",
    "\n",
    "#### Option 1: Running using free online resources (1-click, recommended)\n",
    "\n",
    "The easiest way to start executing the code is to click the **Run** button at the top of this page and select **Run on Binder**. You can also select \"Run on Colab\" or \"Run on Kaggle\", but you'll need to create an account on [Google Colab](https://colab.research.google.com) or [Kaggle](https://kaggle.com) to use these platforms.\n",
    "\n",
    "\n",
    "#### Option 2: Running on your computer locally\n",
    "\n",
    "To run the code on your computer locally, you'll need to set up [Python](https://www.python.org), download the notebook and install the required libraries. We recommend using the [Conda](https://docs.conda.io/projects/conda/en/latest/user-guide/install/) distribution of Python. Click the **Run** button at the top of this page, select the **Run Locally** option, and follow the instructions.\n",
    "\n",
    ">  **Jupyter Notebooks**: This tutorial is a [Jupyter notebook](https://jupyter.org) - a document made of _cells_. Each cell can contain code written in Python or explanations in plain English. You can execute code cells and view the results, e.g., numbers, messages, graphs, tables, files, etc., instantly within the notebook. Jupyter is a powerful platform for experimentation and analysis. Don't be afraid to mess around with the code & break things - you'll learn a lot by encountering and fixing errors. You can use the \"Kernel > Restart & Clear Output\" menu option to clear all outputs and start again from the top."
   ]
  },
  {
   "cell_type": "markdown",
   "metadata": {
    "id": "_cjaGwXRYciQ"
   },
   "source": [
    "## Introduction\n",
    "This is a Brazilian ecommerce public dataset of orders made at [Olist Store]((https://olist.com/pt-br/)). The dataset has information of 100k orders from 2016 to 2018 made at multiple marketplaces in Brazil. Its features allows viewing an order from multiple dimensions: from order status, price, payment and freight performance to customer location, product attributes and finally reviews written by customers. It has also been included a geolocation dataset that relates Brazilian zip codes to lat/lng coordinates.\n",
    "\n",
    "Olist is a Brazilian departmental store (marketplace) that operates in e-commerce segment, but is not an e-commerce itself. It operates as a SaaS (Software as a Service) technology company since 2015. It offers a marketplace solution (of e-commerce segment) to shopkeepers of all sizes (and for most segments) to increase their sales whether they have online presence or not."
   ]
  },
  {
   "cell_type": "markdown",
   "metadata": {
    "id": "4XlDfawbuZ01"
   },
   "source": [
    "## Installing libraries and dataset"
   ]
  },
  {
   "cell_type": "markdown",
   "metadata": {
    "id": "qvNxkCPbmExu"
   },
   "source": [
    "### Downloading required libraries."
   ]
  },
  {
   "cell_type": "code",
   "execution_count": null,
   "metadata": {
    "id": "EVr-iYjzYciS"
   },
   "outputs": [],
   "source": [
    "#Run this cell again to remove pip error\n",
    "!pip install jovian opendatasets plotly folium matplotlib==3.1.3 seaborn --upgrade --quiet"
   ]
  },
  {
   "cell_type": "code",
   "execution_count": null,
   "metadata": {
    "id": "LDAOlbUuYciT"
   },
   "outputs": [],
   "source": [
    "#Importing required libraries\n",
    "import jovian\n",
    "import opendatasets as od\n",
    "import os\n",
    "import pandas as pd\n",
    "from wordcloud import WordCloud\n",
    "import plotly.express as px\n",
    "import plotly.graph_objects as go\n",
    "from plotly.subplots import make_subplots\n",
    "import matplotlib.pyplot as plt\n",
    "import seaborn as sns\n",
    "import folium\n",
    "from folium.plugins import FastMarkerCluster, HeatMap"
   ]
  },
  {
   "cell_type": "code",
   "execution_count": null,
   "metadata": {
    "id": "KjjR5QFdYciW"
   },
   "outputs": [],
   "source": [
    "# Execute this to save new versions of the notebook\n",
    "jovian.commit(project=\"project-2-exploratory-data-analysis\")"
   ]
  },
  {
   "cell_type": "markdown",
   "metadata": {
    "id": "ufpMUY1lxaZL"
   },
   "source": [
    "### Downloading dataset"
   ]
  },
  {
   "cell_type": "markdown",
   "metadata": {
    "id": "-v36pW8imExy"
   },
   "source": [
    "Creating a variable which will contain our dataset link."
   ]
  },
  {
   "cell_type": "code",
   "execution_count": null,
   "metadata": {
    "id": "3ik7uE_QYciY"
   },
   "outputs": [],
   "source": [
    "dataset_url ='https://www.kaggle.com/olistbr/brazilian-ecommerce'"
   ]
  },
  {
   "cell_type": "code",
   "execution_count": null,
   "metadata": {
    "colab": {
     "base_uri": "https://localhost:8080/"
    },
    "id": "OTqzMu3pYciZ",
    "outputId": "0099c930-8b19-4c59-a892-c65508c8c8ca"
   },
   "outputs": [],
   "source": [
    "#You need to provide your kaggle credentials\n",
    "od.download(dataset_url)\n"
   ]
  },
  {
   "cell_type": "code",
   "execution_count": null,
   "metadata": {
    "id": "bhWEZ-kCYcia"
   },
   "outputs": [],
   "source": [
    "data_dir = 'brazilian-ecommerce'"
   ]
  },
  {
   "cell_type": "markdown",
   "metadata": {
    "id": "_rcxYy6HxjCY"
   },
   "source": [
    "### All csv files"
   ]
  },
  {
   "cell_type": "markdown",
   "metadata": {
    "id": "mjsNEhaimEx2"
   },
   "source": [
    "Lets look at all the `.csv` files which we have downloaded"
   ]
  },
  {
   "cell_type": "code",
   "execution_count": null,
   "metadata": {
    "colab": {
     "base_uri": "https://localhost:8080/"
    },
    "id": "1mh-4hxrYcia",
    "outputId": "48266749-4981-488e-9075-e5f35558ad24"
   },
   "outputs": [],
   "source": [
    "os.listdir(data_dir)"
   ]
  },
  {
   "cell_type": "markdown",
   "metadata": {
    "id": "mfBsGHmdx1sc"
   },
   "source": [
    "### Creating data frames"
   ]
  },
  {
   "cell_type": "markdown",
   "metadata": {
    "id": "GsPCDE0AmEx3"
   },
   "source": [
    "Creating the required data frames for *analysis*. We have been using pd.read_csv() function to convert the `.csv` file to pandas data frame."
   ]
  },
  {
   "cell_type": "code",
   "execution_count": null,
   "metadata": {
    "id": "K0vAVtX1qi8E"
   },
   "outputs": [],
   "source": [
    "olist_customer_df = pd.read_csv(data_dir + '/olist_customers_dataset.csv')\n",
    "olist_sellers_df = pd.read_csv(data_dir + '/olist_sellers_dataset.csv')\n",
    "olist_geolocation_df = pd.read_csv(data_dir + '/olist_geolocation_dataset.csv')\n",
    "olist_orders_df = pd.read_csv(data_dir + '/olist_orders_dataset.csv')\n",
    "olist_order_items_df = pd.read_csv(data_dir + '/olist_order_items_dataset.csv')\n",
    "olist_payments_df = pd.read_csv(data_dir + '/olist_order_payments_dataset.csv')\n",
    "olist_reviews_df = pd.read_csv(data_dir + '/olist_order_reviews_dataset.csv')\n",
    "olist_products_df = pd.read_csv(data_dir + '/olist_products_dataset.csv')\n",
    "olist_translation_df = pd.read_csv(data_dir + '/product_category_name_translation.csv')"
   ]
  },
  {
   "cell_type": "markdown",
   "metadata": {
    "id": "3QgwHjleqi8M"
   },
   "source": [
    "## Data Cleaning "
   ]
  },
  {
   "cell_type": "markdown",
   "metadata": {
    "id": "L2C5m0upqFpL"
   },
   "source": [
    "### Wrong city name\n",
    "\n"
   ]
  },
  {
   "cell_type": "markdown",
   "metadata": {
    "id": "xnmpTiV9qi8M"
   },
   "source": [
    "* Replacing são paulo with sao paulo as both define same city"
   ]
  },
  {
   "cell_type": "code",
   "execution_count": null,
   "metadata": {
    "colab": {
     "base_uri": "https://localhost:8080/",
     "height": 225
    },
    "id": "oQhno5HsYcic",
    "outputId": "d04cff23-668e-4964-d6f4-6f4ec7330f24"
   },
   "outputs": [],
   "source": [
    "olist_customer_df[:3]"
   ]
  },
  {
   "cell_type": "code",
   "execution_count": null,
   "metadata": {
    "colab": {
     "base_uri": "https://localhost:8080/"
    },
    "id": "m2uIgl2Aqi8N",
    "outputId": "e0de23e9-4399-48bd-c209-883f0fa54c66"
   },
   "outputs": [],
   "source": [
    "olist_geolocation_df.replace(to_replace='são paulo',value='sao paulo',inplace=True)\n",
    "olist_geolocation_df.geolocation_city.value_counts()"
   ]
  },
  {
   "cell_type": "markdown",
   "metadata": {
    "id": "kb5w4--WtQji"
   },
   "source": [
    "### Handling blank spaces"
   ]
  },
  {
   "cell_type": "markdown",
   "metadata": {
    "id": "ulRKnwhtYSjv"
   },
   "source": [
    "Clearing out `blank spaces` from olist_geolocation_df to get excat cities name from the dataset"
   ]
  },
  {
   "cell_type": "code",
   "execution_count": null,
   "metadata": {
    "colab": {
     "base_uri": "https://localhost:8080/"
    },
    "id": "BvQ6UwoJYSGo",
    "outputId": "1d72dcec-4802-4a3b-ed4e-91c96762b2ab"
   },
   "outputs": [],
   "source": [
    "top_15 = olist_geolocation_df[['geolocation_city','geolocation_lat','geolocation_lng']]\n",
    "y= top_15['geolocation_city'].str.strip().value_counts().head(15)\n",
    "#converting it in a list\n",
    "list1=y.index.to_list()\n",
    "list1"
   ]
  },
  {
   "cell_type": "markdown",
   "metadata": {
    "id": "6U8t5j3YAblW"
   },
   "source": [
    "### Geographical changes\n",
    "\n",
    "Getting out a dataframe which contains **top 15** cities having most selling points and also clearing out latitude and longitude which is beyond `Brazil`"
   ]
  },
  {
   "cell_type": "code",
   "execution_count": null,
   "metadata": {
    "colab": {
     "base_uri": "https://localhost:8080/",
     "height": 143
    },
    "id": "rH5XBrAOtpDI",
    "outputId": "caa2fd62-04de-451b-f913-68fd0233b84a"
   },
   "outputs": [],
   "source": [
    "#geo data of top 15 cities with there pin codes.\n",
    "geo_data = olist_geolocation_df[~olist_geolocation_df['geolocation_city'].isin(list1)]\n",
    "geo_data[:3]"
   ]
  },
  {
   "cell_type": "code",
   "execution_count": null,
   "metadata": {
    "id": "1ed2mzo550ug"
   },
   "outputs": [],
   "source": [
    "#Brazils most Northern spot is at 5 deg 16′ 27.8″ N latitude.;\n",
    "geo_data = geo_data[geo_data.geolocation_lat <= 5.27438888]\n",
    "#it’s most Western spot is at 73 deg, 58′ 58.19″W Long.\n",
    "geo_data = geo_data[geo_data.geolocation_lng >= -73.98283055]\n",
    "#It’s most southern spot is at 33 deg, 45′ 04.21″ S Latitude.\n",
    "geo_data = geo_data[geo_data.geolocation_lat >= -33.75116944]\n",
    "#It’s most Eastern spot is 34 deg, 47′ 35.33″ W Long.\n",
    "geo_data= geo_data[geo_data.geolocation_lng <=  -34.79314722]\n",
    "geo_df = geo_data.groupby(by='geolocation_city', as_index=False).min()\n"
   ]
  },
  {
   "cell_type": "code",
   "execution_count": null,
   "metadata": {
    "colab": {
     "base_uri": "https://localhost:8080/",
     "height": 143
    },
    "id": "p2c48p2a6Q4x",
    "outputId": "ff409a18-5bc6-4624-a0c7-4250f51f7ce5"
   },
   "outputs": [],
   "source": [
    "geo_df[:3]"
   ]
  },
  {
   "cell_type": "markdown",
   "metadata": {
    "id": "Mna9f9-JtX-7"
   },
   "source": [
    "### Merging columns"
   ]
  },
  {
   "cell_type": "markdown",
   "metadata": {
    "id": "3SXl-abkBBPQ"
   },
   "source": [
    "Adding `freight value` in products df for visulaization."
   ]
  },
  {
   "cell_type": "code",
   "execution_count": null,
   "metadata": {
    "id": "MyW10gbmYR0J"
   },
   "outputs": [],
   "source": [
    "olist_products_df['freight_value'] = olist_order_items_df['freight_value']\n",
    "olist_products_df['product_category_name_english'] = olist_translation_df['product_category_name_english']"
   ]
  },
  {
   "cell_type": "markdown",
   "metadata": {
    "id": "pMbyAryEAwuY"
   },
   "source": []
  },
  {
   "cell_type": "markdown",
   "metadata": {
    "id": "fvnH22h-tfuI"
   },
   "source": [
    "### Changing datatype"
   ]
  },
  {
   "cell_type": "markdown",
   "metadata": {
    "id": "-mvOl5OnYywh"
   },
   "source": [
    "Changing the datatype to dateandtime() and getting out year, date ,month ,week day, day name and hours. `To be used in Q & A section`"
   ]
  },
  {
   "cell_type": "code",
   "execution_count": null,
   "metadata": {
    "id": "B4hk6PJFYwzm"
   },
   "outputs": [],
   "source": [
    "olist_orders_df['order_delivered_customer_date'] = pd.to_datetime(olist_orders_df['order_delivered_customer_date'])\n",
    "olist_orders_df['order_approved_at']= pd.to_datetime(olist_orders_df['order_approved_at'])\n",
    "olist_orders_df['order_delivered_carrier_date']= pd.to_datetime(olist_orders_df['order_delivered_carrier_date'])\n",
    "olist_orders_df['order_estimated_delivery_date'] = pd.to_datetime(olist_orders_df['order_estimated_delivery_date'])\n",
    "olist_orders_df['order_purchase_timestamp'] = pd.to_datetime(olist_orders_df['order_purchase_timestamp'])"
   ]
  },
  {
   "cell_type": "code",
   "execution_count": null,
   "metadata": {
    "colab": {
     "base_uri": "https://localhost:8080/",
     "height": 270
    },
    "id": "w4Km3qqwoY96",
    "outputId": "f3d7296a-5eb5-41c6-ec86-70bf9722acff"
   },
   "outputs": [],
   "source": [
    "# Getting values for purchase date, year and Month\n",
    "olist_orders_df['order_purchase_year'] = olist_orders_df['order_purchase_timestamp'].apply(lambda x: x.year)\n",
    "olist_orders_df['order_purchase_month'] = olist_orders_df['order_purchase_timestamp'].apply(lambda x: x.month)\n",
    "olist_orders_df['order_purchase_month_name'] = olist_orders_df['order_purchase_timestamp'].apply(lambda x: x.strftime('%b'))\n",
    "olist_orders_df['order_purchase_year_month'] = olist_orders_df['order_purchase_timestamp'].apply(lambda x: x.strftime('%Y,%m'))\n",
    "olist_orders_df['order_purchase_date'] = olist_orders_df['order_purchase_timestamp'].apply(lambda x: x.strftime('%Y,%m,%d'))\n",
    "\n",
    "# Getting values for purchase day, day of the week and day_name\n",
    "olist_orders_df['order_purchase_day'] = olist_orders_df['order_purchase_timestamp'].apply(lambda x: x.day)\n",
    "olist_orders_df['order_purchase_dayofweek'] = olist_orders_df['order_purchase_timestamp'].apply(lambda x: x.dayofweek)\n",
    "olist_orders_df['order_purchase_dayofweek_name'] = olist_orders_df['order_purchase_timestamp'].apply(lambda x: x.strftime('%a'))\n",
    "\n",
    "# Getting values for specific time of a day \n",
    "olist_orders_df['order_purchase_hour'] = olist_orders_df['order_purchase_timestamp'].apply(lambda x: x.hour)\n",
    "hours_bins = [-0.1, 6, 12, 18, 23]\n",
    "hours_labels = ['Early morning', 'Morning', 'Afternoon', 'Night']\n",
    "olist_orders_df['order_purchase_time_day'] = pd.cut(olist_orders_df['order_purchase_hour'], hours_bins, labels=hours_labels)\n",
    "olist_orders_df[:5]"
   ]
  },
  {
   "cell_type": "markdown",
   "metadata": {
    "id": "cr5tRzKmwKPZ"
   },
   "source": [
    "## Reading Dataset"
   ]
  },
  {
   "cell_type": "markdown",
   "metadata": {
    "id": "3ytCckJS1twK"
   },
   "source": [
    "### Looking at dataframe"
   ]
  },
  {
   "cell_type": "code",
   "execution_count": null,
   "metadata": {
    "colab": {
     "base_uri": "https://localhost:8080/",
     "height": 349
    },
    "id": "qsmBPcyCszfi",
    "outputId": "d458c25c-cfdd-400f-a299-207f687581b8"
   },
   "outputs": [],
   "source": [
    "# Collections for each dataset\n",
    "datasets = [olist_customer_df, olist_geolocation_df, olist_orders_df, olist_order_items_df, olist_payments_df,\n",
    "            olist_reviews_df, olist_products_df, olist_sellers_df, olist_translation_df]\n",
    "names = ['olist_customer_df', 'olist_geolocation_df', 'olist_orders_df', 'olist_order_items_df', 'olist_payments_df',\n",
    "         'olist_reviews_df', 'olist_products_df', 'olist_sellers_df','olist_translation_df']\n",
    "\n",
    "# Creating a DataFrame with useful information about all datasets\n",
    "data_info = pd.DataFrame({})\n",
    "data_info['dataset'] = names\n",
    "data_info['n_rows'] = [df.shape[0] for df in datasets]\n",
    "data_info['n_cols'] = [df.shape[1] for df in datasets]\n",
    "data_info['null_amount'] = [df.isnull().sum().sum() for df in datasets]\n",
    "data_info['qty_null_columns'] = [len([col for col, null in df.isnull().sum().items() if null > 0]) for df in datasets]\n",
    "data_info['null_columns'] = [', '.join([col for col, null in df.isnull().sum().items() if null > 0]) for df in datasets]\n",
    "\n",
    "data_info.style.background_gradient()"
   ]
  },
  {
   "cell_type": "markdown",
   "metadata": {
    "id": "Kq1g2__duBO4"
   },
   "source": [
    "We have `9 datasets` to analyse and above info can show us number of rows, missing values and number of columns in each dataframe."
   ]
  },
  {
   "cell_type": "markdown",
   "metadata": {
    "id": "hUggcwVNB0Ry"
   },
   "source": [
    "### Visualizing top 15 cities"
   ]
  },
  {
   "cell_type": "code",
   "execution_count": null,
   "metadata": {
    "colab": {
     "base_uri": "https://localhost:8080/"
    },
    "id": "YcyPHFm0Ycid",
    "outputId": "317185b9-0c4b-4979-f6b2-9a6f487480dd"
   },
   "outputs": [],
   "source": [
    "customer_city = olist_customer_df.customer_city.value_counts().head(15)\n",
    "customer_city"
   ]
  },
  {
   "cell_type": "code",
   "execution_count": null,
   "metadata": {
    "colab": {
     "base_uri": "https://localhost:8080/",
     "height": 542
    },
    "id": "oNTI7C4PYcie",
    "outputId": "9b93c2cc-ab42-4c24-9623-d2b8cc4a5e16"
   },
   "outputs": [],
   "source": [
    "px.bar(x = customer_city.index,\n",
    "       y =  customer_city.values,\n",
    "       title=\"Top 15 city with most orders\",\n",
    "      labels={'y':'No. of orders',\n",
    "             'x':'City Name'})"
   ]
  },
  {
   "cell_type": "markdown",
   "metadata": {
    "id": "X1TCu2DUeQ38"
   },
   "source": [
    "As we can visualize sao paulo has got most number of orders reaching upto **15k** over the course of 2 years."
   ]
  },
  {
   "cell_type": "markdown",
   "metadata": {
    "id": "eGQLtjywCHnK"
   },
   "source": [
    "### Visulaizing top 15 states"
   ]
  },
  {
   "cell_type": "code",
   "execution_count": null,
   "metadata": {
    "id": "s66be9jVYcif"
   },
   "outputs": [],
   "source": [
    "#top 15 states based of customers\n",
    "customer_state_df = olist_customer_df.customer_state.value_counts().head(15).to_frame()"
   ]
  },
  {
   "cell_type": "code",
   "execution_count": null,
   "metadata": {
    "colab": {
     "base_uri": "https://localhost:8080/",
     "height": 453
    },
    "id": "cwNfJHJiO_oN",
    "outputId": "c24401e2-9fe5-43ff-9456-d396d405e079"
   },
   "outputs": [],
   "source": [
    "customer_state_df.plot(kind='barh',title='Top 15 states with most orders',figsize=(18, 8));"
   ]
  },
  {
   "cell_type": "markdown",
   "metadata": {
    "id": "zTyfLRbFjPIL"
   },
   "source": [
    "### Translation of cateogries \n",
    "Lets look at all the cateogries present in olist in english language. "
   ]
  },
  {
   "cell_type": "code",
   "execution_count": null,
   "metadata": {
    "colab": {
     "base_uri": "https://localhost:8080/",
     "height": 143
    },
    "id": "wlM5RKxAto6H",
    "outputId": "d88c3f01-0791-4fb4-9b45-afe2769e0ffd"
   },
   "outputs": [],
   "source": [
    "olist_translation_df[:3]"
   ]
  },
  {
   "cell_type": "code",
   "execution_count": null,
   "metadata": {
    "colab": {
     "base_uri": "https://localhost:8080/",
     "height": 466
    },
    "id": "Uys7oSvVYwfO",
    "outputId": "9948b3e1-1f04-4c05-ef10-9ec52071c094"
   },
   "outputs": [],
   "source": [
    "words = ' '.join((i for i in olist_translation_df.product_category_name_english.dropna().str.replace(';', ' ').str.replace(',', ' ')))\n",
    "\n",
    "wc = WordCloud( width=800, height=400, background_color='black').generate(words)\n",
    "\n",
    "plt.figure(figsize=(16,8))\n",
    "plt.axis(\"off\")\n",
    "plt.grid(False)\n",
    "plt.imshow(wc);"
   ]
  },
  {
   "cell_type": "markdown",
   "metadata": {
    "id": "VD6KbILyBqaq"
   },
   "source": [
    "### Plotting pin codes on map\n",
    "Lets see the selling and buying points of `sao paulo` according to zip codes."
   ]
  },
  {
   "cell_type": "code",
   "execution_count": null,
   "metadata": {
    "id": "andfYw1tCK5j"
   },
   "outputs": [],
   "source": [
    "#getting first 30000 zip codes\n",
    "latitude = list(geo_data['geolocation_lat'])[:30000]\n",
    "longitude = list(geo_data['geolocation_lng'])[:30000]\n",
    "locations = list(zip(latitude, longitude))"
   ]
  },
  {
   "cell_type": "code",
   "execution_count": null,
   "metadata": {
    "colab": {
     "base_uri": "https://localhost:8080/",
     "height": 583
    },
    "id": "Uhqf7vSvCVlg",
    "outputId": "f1566694-7c30-4bb5-df3d-b14930b30605"
   },
   "outputs": [],
   "source": [
    "m = folium.Map(location=[-23.54562128115268\t, -46.63929204800168], zoom_start=11)\n",
    "FastMarkerCluster(data=locations).add_to(m)\n",
    "m"
   ]
  },
  {
   "cell_type": "markdown",
   "metadata": {
    "id": "MKPP_XhVgJbj"
   },
   "source": [
    "In the above graph numbers shows the amount of `zip codes` present in that location and `darker` the colour higher will be the amount of pin codes."
   ]
  },
  {
   "cell_type": "code",
   "execution_count": null,
   "metadata": {
    "colab": {
     "base_uri": "https://localhost:8080/",
     "height": 583
    },
    "id": "fg_dJYrW0sHX",
    "outputId": "ff8fda69-b95a-41d2-c67b-0b12611ab141"
   },
   "outputs": [],
   "source": [
    "# Grouping geolocation data for plotting a heatmap\n",
    "heat_data = geo_data.groupby(by=['geolocation_lat', 'geolocation_lng'], as_index=False).count().iloc[:, :3]\n",
    "\n",
    "# Creating a mapa using folium\n",
    "map1 = folium.Map(\n",
    "    location=[-15, -50], \n",
    "    zoom_start=4.0, \n",
    "    tiles='cartodbdark_matter'\n",
    ")\n",
    "\n",
    "# Plugin: HeatMap\n",
    "HeatMap(\n",
    "    name='Heat Map',\n",
    "    data=heat_data,\n",
    "    radius=10,\n",
    "    max_zoom=13\n",
    ").add_to(map1)\n",
    "\n",
    "map1"
   ]
  },
  {
   "cell_type": "markdown",
   "metadata": {
    "id": "xUsrHpAo2FbZ"
   },
   "source": [
    "By the map we showed above, we have the insight that the southeast of Brazil has the highest number of orders given through **olist** e-commerce which can be true as most devloped cities lies in that area."
   ]
  },
  {
   "cell_type": "markdown",
   "metadata": {
    "id": "mMBa0YONqi8N"
   },
   "source": [
    "## Q & A"
   ]
  },
  {
   "cell_type": "markdown",
   "metadata": {
    "id": "rMh8c_7Aqi8N"
   },
   "source": [
    "### Q1 Payment methods\n",
    "1- How many types of payment methods has been used for shopping and who got the highest percentage?"
   ]
  },
  {
   "cell_type": "code",
   "execution_count": null,
   "metadata": {
    "colab": {
     "base_uri": "https://localhost:8080/",
     "height": 206
    },
    "id": "FWZKU86Hqi8O",
    "outputId": "306ac3a7-87a5-4ad5-e5b4-781d1a1352f2"
   },
   "outputs": [],
   "source": [
    "payment_types_df = olist_payments_df.payment_type.value_counts().to_frame().reset_index()\n",
    "payment_types_df['Percentage'] = round(payment_types_df.payment_type *100/payment_types_df.payment_type.sum(),2)\n",
    "payment_types_df\n"
   ]
  },
  {
   "cell_type": "code",
   "execution_count": null,
   "metadata": {
    "colab": {
     "base_uri": "https://localhost:8080/"
    },
    "id": "FZ8AKyjrbYwE",
    "outputId": "0d268863-dd47-4e2a-e4be-40663effc072"
   },
   "outputs": [],
   "source": [
    "types = len(payment_types_df)\n",
    "payment_type = payment_types_df.iloc[0]['index']\n",
    "highest_percentage = payment_types_df.iloc[0]['Percentage']\n",
    "count = payment_types_df.iloc[0]['payment_type']\n",
    "print(f'There are {types} types of method used for shopping and {payment_type} has been used {count} times over the course of 2 years sharing {highest_percentage}% among other types of payment.')"
   ]
  },
  {
   "cell_type": "code",
   "execution_count": null,
   "metadata": {
    "colab": {
     "base_uri": "https://localhost:8080/",
     "height": 413
    },
    "id": "HmLWVFUpqi8O",
    "outputId": "a4784b95-e49e-4a34-8fd6-a2feef637d01"
   },
   "outputs": [],
   "source": [
    "plt.figure(figsize=(12, 6))\n",
    "sns.set(font_scale=20)\n",
    "sns.set_theme(style=\"darkgrid\")\n",
    "sns.barplot(x='index',y='Percentage',data=payment_types_df);\n",
    "\n",
    "plt.legend(title='Payment type Distribution');\n",
    "plt.xlabel('Method type', fontsize=16);\n",
    "plt.ylabel('Percentage', fontsize=16);"
   ]
  },
  {
   "cell_type": "markdown",
   "metadata": {
    "id": "N8WbevmhOTgI"
   },
   "source": [
    "There are 5 types of method used for shopping and credit_card has been used 76795 times over the course of 2 years sharing **73.92%** among other types of payment.<br>\n",
    "Boleto is bank wallet type of mode and we can say that **olist** provides better **voucher payments**  as it has got more amount of share than **debit card**"
   ]
  },
  {
   "cell_type": "markdown",
   "metadata": {
    "id": "aex33vWRqi8O"
   },
   "source": [
    "### Q2 Cateorgies\n",
    "2- Show the number of categories present in olist and how many items are present in that cateogry?"
   ]
  },
  {
   "cell_type": "code",
   "execution_count": null,
   "metadata": {
    "id": "hXVfkSR-slGs"
   },
   "outputs": [],
   "source": [
    "category_name = olist_products_df.product_category_name.value_counts().to_frame()\n",
    "category_name_df1 = category_name[:15]"
   ]
  },
  {
   "cell_type": "code",
   "execution_count": null,
   "metadata": {
    "colab": {
     "base_uri": "https://localhost:8080/",
     "height": 542
    },
    "id": "3dTzueUIpOIa",
    "outputId": "c1809ffc-447e-4b5b-c5c7-5e423e040084"
   },
   "outputs": [],
   "source": [
    "fig = px.histogram(data_frame=category_name_df1,\n",
    "           x='product_category_name',y= category_name_df1.index)\n",
    "\n",
    "fig.update_layout(title=\"Top 15 types of category\",\n",
    "                    xaxis_title=\"Product count\",\n",
    "                    yaxis_title=\"Category Name\",\n",
    "                    plot_bgcolor='#000000',\n",
    "    font=dict(\n",
    "        family=\"Times New Roman\",\n",
    "        size=14,\n",
    "        color=\"#8B0000\"\n",
    "    )\n",
    "                 )\n",
    "fig.update_xaxes(showgrid=False)\n",
    "fig.update_yaxes(showgrid=False)\n",
    "fig.show()"
   ]
  },
  {
   "cell_type": "markdown",
   "metadata": {
    "id": "mjSCimGGfIcG"
   },
   "source": [
    "Above graph shows **top 15** category types and we can visualize from the graph `cama_mesa_banho` which means `bed, table and bath` has got the most amount of products touching around 3000 different types of products in it."
   ]
  },
  {
   "cell_type": "code",
   "execution_count": null,
   "metadata": {
    "colab": {
     "base_uri": "https://localhost:8080/",
     "height": 542
    },
    "id": "SeiiVoNpQCSl",
    "outputId": "6615e95f-08ac-43ba-95a4-c8b3b5e9a33e"
   },
   "outputs": [],
   "source": [
    "category_name_df2 = category_name[-15:]\n",
    "fig = px.histogram(data_frame=category_name_df2,\n",
    "           x='product_category_name',y= category_name_df2.index)\n",
    "\n",
    "fig.update_layout(title=\"Bottom 15 types of category\",\n",
    "                    xaxis_title=\"Product count\",\n",
    "                    yaxis_title=\"Category Name\",\n",
    "                    plot_bgcolor='#000000',\n",
    "    font=dict(\n",
    "        family=\"Times New Roman\",\n",
    "        size=14,\n",
    "        color=\"#8B0000\"\n",
    "    )\n",
    "                 )\n",
    "fig.update_xaxes(showgrid=False)\n",
    "fig.update_yaxes(showgrid=False)\n",
    "fig.show()"
   ]
  },
  {
   "cell_type": "markdown",
   "metadata": {
    "id": "55OI1asMRi4m"
   },
   "source": [
    "Here we are looking at **least 15** and we can visulize that **CD and DVDs** category got just one product in it, which leads to a conclusion that it is not for music enthusiasts."
   ]
  },
  {
   "cell_type": "markdown",
   "metadata": {
    "id": "epDPA6v3tRlo"
   },
   "source": [
    "### Q3 Freight values\n",
    "3- Which cateogry cost the most transportation cost and why? "
   ]
  },
  {
   "cell_type": "markdown",
   "metadata": {
    "id": "fCiuqmqhAH9s"
   },
   "source": [
    "A freight value is a price at which a certain cargo is delivered from one point to another. The price depends on the form of the cargo, the mode of transport, the weight of the cargo and the distance to the delivery destination."
   ]
  },
  {
   "cell_type": "code",
   "execution_count": null,
   "metadata": {
    "colab": {
     "base_uri": "https://localhost:8080/",
     "height": 207
    },
    "id": "AGzUnW3YiVQ_",
    "outputId": "0edca474-5ef4-4bd1-d83b-affcdd7a8095"
   },
   "outputs": [],
   "source": [
    "olist_products_df[:3]"
   ]
  },
  {
   "cell_type": "code",
   "execution_count": null,
   "metadata": {
    "colab": {
     "base_uri": "https://localhost:8080/",
     "height": 523
    },
    "id": "zcQnS1-IkZDV",
    "outputId": "2bd26094-c975-4884-8ffa-0243625ce9bf"
   },
   "outputs": [],
   "source": [
    "plt.figure(figsize = (16,10))\n",
    "sns.heatmap(olist_products_df.pivot_table(index=['product_category_name_english'],values=['freight_value'],aggfunc='mean'));"
   ]
  },
  {
   "cell_type": "markdown",
   "metadata": {
    "id": "eTpX0kpKlYYz"
   },
   "source": [
    "As we can visualize from the heatmap **home_counstruction** freight value goes above `70` and as we know  Freight value has weight as one of a crietria and construction based materials has got higher weights resulting in greater freight value."
   ]
  },
  {
   "cell_type": "markdown",
   "metadata": {
    "id": "QkcuQD_VIlWw"
   },
   "source": [
    "### Q4 Selling points\n",
    "4- List top 15 cities having most selling points.\n"
   ]
  },
  {
   "cell_type": "code",
   "execution_count": null,
   "metadata": {
    "id": "nlPK2f1SHvxH"
   },
   "outputs": [],
   "source": [
    "seller_city_data = olist_sellers_df.seller_city.value_counts().head(15)\n",
    "seller_city_df = seller_city_data.to_frame()"
   ]
  },
  {
   "cell_type": "code",
   "execution_count": null,
   "metadata": {
    "colab": {
     "base_uri": "https://localhost:8080/",
     "height": 542
    },
    "id": "-UW1piPGI2m5",
    "outputId": "aee3349d-b57c-4acd-fd4c-6145b51b4c20"
   },
   "outputs": [],
   "source": [
    "fig = px.bar(seller_city_df, \n",
    "             x=\"seller_city\", \n",
    "             y=seller_city_df.index, \n",
    "             color=\"seller_city\")\n",
    "fig.update_layout(title=\"Top 15 cities having most selling points\",\n",
    "                xaxis_title=\"Number of orders\",\n",
    "                yaxis_title=\"City name\",\n",
    "                legend_title=\"length\",\n",
    "                plot_bgcolor='#000000',\n",
    "    font=dict(\n",
    "        family=\"Garamond\",\n",
    "        size=17,\n",
    "        color=\"#8B0000\"\n",
    "    )\n",
    "                 )\n",
    "fig.update_xaxes(showgrid=False)\n",
    "fig.update_yaxes(showgrid=False)\n",
    "fig.update_yaxes(categoryorder=\"total ascending\")\n",
    "fig.show()"
   ]
  },
  {
   "cell_type": "markdown",
   "metadata": {
    "id": "Pi4eiNy1lxt7"
   },
   "source": [
    "**Sao paulo** has got most number of selling point which is around `700` which can be true as it is financial capital of **Brazil** and of **Latin America** as a whole."
   ]
  },
  {
   "cell_type": "markdown",
   "metadata": {
    "id": "RO1tRAN19yFH"
   },
   "source": [
    "### Q5 Order status\n",
    "5- Whats is the status of orders around the course of 2 years?"
   ]
  },
  {
   "cell_type": "code",
   "execution_count": null,
   "metadata": {
    "colab": {
     "base_uri": "https://localhost:8080/",
     "height": 207
    },
    "id": "z0qMDJ3rCFmf",
    "outputId": "b5e62763-e2fc-4bf3-ba0b-35b632d343f9"
   },
   "outputs": [],
   "source": [
    "olist_orders_df[:3]"
   ]
  },
  {
   "cell_type": "code",
   "execution_count": null,
   "metadata": {
    "id": "ZJnpqyIC-j7U"
   },
   "outputs": [],
   "source": [
    "all_count = olist_orders_df.order_status.value_counts().sum()\n",
    "status = olist_orders_df.order_status.value_counts().to_frame()\n",
    "status['Percentage'] = round((olist_orders_df.order_status.value_counts() / all_count) *100,3)"
   ]
  },
  {
   "cell_type": "code",
   "execution_count": null,
   "metadata": {
    "colab": {
     "base_uri": "https://localhost:8080/",
     "height": 542
    },
    "id": "kEfjGhMaM8h1",
    "outputId": "f0da03aa-1abe-4226-d325-ab561b917061"
   },
   "outputs": [],
   "source": [
    "fig = px.pie(status,\n",
    "             values='Percentage',\n",
    "             names=status.index,\n",
    "             color_discrete_sequence=px.colors.sequential.RdBu,\n",
    "             title='Order status',\n",
    "             hover_data=['order_status'])\n",
    "fig.update_traces( textinfo='percent+label')\n",
    "fig.update_layout(uniformtext_minsize=18)\n",
    "fig.show()"
   ]
  },
  {
   "cell_type": "markdown",
   "metadata": {
    "id": "ztd2UXSSmzPj"
   },
   "source": [
    "**Olist** has successful delivery percentage around `97%` which states that it has good delivery service which is crucial for any e-commerce brand."
   ]
  },
  {
   "cell_type": "markdown",
   "metadata": {
    "id": "IhkoIg8Vae_8"
   },
   "source": [
    "### Q6 Delivery-1\n",
    "6. List out how many days it take the orders to get delivered.\n"
   ]
  },
  {
   "cell_type": "code",
   "execution_count": null,
   "metadata": {
    "colab": {
     "base_uri": "https://localhost:8080/",
     "height": 270
    },
    "id": "TimIuEXwzdwC",
    "outputId": "444cc59f-7425-4064-8535-e17f7f6c21ea"
   },
   "outputs": [],
   "source": [
    "olist_orders_df[:5]"
   ]
  },
  {
   "cell_type": "code",
   "execution_count": null,
   "metadata": {
    "id": "LScyLf4IQAvh"
   },
   "outputs": [],
   "source": [
    "delivery_time = (olist_orders_df['order_delivered_customer_date'].dt.date - olist_orders_df['order_purchase_timestamp'].dt.date ).value_counts().rename('Count')\n",
    "delivery_time_df = delivery_time.to_frame().reset_index()\n",
    "delivery_time_df = delivery_time_df[:30]\n"
   ]
  },
  {
   "cell_type": "code",
   "execution_count": null,
   "metadata": {
    "colab": {
     "base_uri": "https://localhost:8080/",
     "height": 542
    },
    "id": "e7v6OI3veiRN",
    "outputId": "52425163-1be6-407e-baed-2fa93dc10893"
   },
   "outputs": [],
   "source": [
    "fig=px.bar(delivery_time_df,y=delivery_time_df['index'].dt.days,x='Count',orientation='h')\n",
    "fig.update_yaxes(dtick=1)\n",
    "fig.update_layout(title=\"Delivery Days \",\n",
    "                yaxis_title=\"Number of month day on which order got delivered\",\n",
    "                xaxis_title=\"Number of orders on that day\",              \n",
    "    font=dict(\n",
    "        family=\"Helvetica\",\n",
    "        size=17,\n",
    "        color=\"#2F4F4F\"\n",
    "    )\n",
    "                 )\n",
    "fig.show()"
   ]
  },
  {
   "cell_type": "markdown",
   "metadata": {
    "id": "7qEs7bB4yH2H"
   },
   "source": [
    "It seems most of the orders got *delivered* in `7 days = 7000 ` after the time of purchase from olist and around 700 orders got delivered at same day of purchase. "
   ]
  },
  {
   "cell_type": "markdown",
   "metadata": {
    "id": "N9beKzErYCZY"
   },
   "source": [
    "### Q7 Delivery-2\n",
    "7- Visualizing orders over every month from our dataset. Can you see some trend?"
   ]
  },
  {
   "cell_type": "code",
   "execution_count": null,
   "metadata": {
    "id": "WYOutX5y_nPb"
   },
   "outputs": [],
   "source": [
    "olist_orders_df= olist_orders_df.sort_values('order_purchase_date',axis=0)"
   ]
  },
  {
   "cell_type": "code",
   "execution_count": null,
   "metadata": {
    "colab": {
     "base_uri": "https://localhost:8080/",
     "height": 542
    },
    "id": "Y-uKDxAbqpVt",
    "outputId": "83fc8e9f-18dc-48ed-9fcb-bf38a3dc3f24"
   },
   "outputs": [],
   "source": [
    "px.scatter(olist_orders_df,x='order_purchase_year_month',y='order_purchase_day')"
   ]
  },
  {
   "cell_type": "markdown",
   "metadata": {
    "id": "wseLRY44zt9M"
   },
   "source": [
    "Above scatter plot shows that E-commerce on Brazil really has a growing from 2016 with the time. We can see some peaks at specific months, but after 8 month of 2018 the trends needs to go down."
   ]
  },
  {
   "cell_type": "markdown",
   "metadata": {
    "id": "LsBvyqy6d3u-"
   },
   "source": [
    "### Q8 Subplots on days\n",
    "8- Show the shopping patterns of olist customers."
   ]
  },
  {
   "cell_type": "code",
   "execution_count": null,
   "metadata": {
    "colab": {
     "base_uri": "https://localhost:8080/"
    },
    "id": "k8A0TIoyUmaw",
    "outputId": "50bc4f02-c5cf-4ea4-87ee-a5510ba9f0ce"
   },
   "outputs": [],
   "source": [
    "#converting in data and time datatyoe and getting out day name for visulaization\n",
    "olist_orders_df['order_delivered_customer_date'] =  pd.to_datetime(olist_orders_df['order_delivered_customer_date'], format =\"%Y.%m.%d\")\n",
    "olist_orders_df['order_purchase_timestamp'] =  pd.to_datetime(olist_orders_df['order_purchase_timestamp'], format =\"%Y.%m.%d\")\n",
    "olist_orders_df['order_approved_at'] =  pd.to_datetime(olist_orders_df['order_approved_at'], format =\"%Y.%m.%d\")\n",
    "olist_orders_df['order_estimated_delivery_date'] =  pd.to_datetime(olist_orders_df['order_estimated_delivery_date'], format =\"%Y.%m.%d\")\n",
    "olist_orders_df['order_delivered_carrier_date'] =  pd.to_datetime(olist_orders_df['order_delivered_carrier_date'], format =\"%Y.%m.%d\")\n",
    "\n",
    "olist_orders_df.info()"
   ]
  },
  {
   "cell_type": "code",
   "execution_count": null,
   "metadata": {
    "id": "YUcSKQMJasW6"
   },
   "outputs": [],
   "source": [
    "graph1 = olist_orders_df['order_purchase_timestamp'].dt.day_name().value_counts()\n",
    "graph2 = olist_orders_df['order_approved_at'].dt.day_name().value_counts()\n",
    "graph3 = olist_orders_df['order_delivered_customer_date'].dt.day_name().value_counts()\n",
    "graph4 = olist_orders_df['order_estimated_delivery_date'].dt.day_name().value_counts()"
   ]
  },
  {
   "cell_type": "code",
   "execution_count": null,
   "metadata": {
    "id": "0rQdBO08fVbz"
   },
   "outputs": [],
   "source": [
    "#plotting all subplots \n",
    "f1 = px.bar(x=graph1.index,y=graph1.values)\n",
    "f2= px.bar(x=graph2.index,y=graph2.values)\n",
    "f3= px.bar(x=graph3.index,y=graph3.values)\n",
    "f4= px.bar(x=graph4.index,y=graph4.values)"
   ]
  },
  {
   "cell_type": "code",
   "execution_count": null,
   "metadata": {
    "id": "QpnKuSiGgq5J"
   },
   "outputs": [],
   "source": [
    "#getting the traces out of it.\n",
    "trace1 = f1['data'][0]\n",
    "trace2 = f2['data'][0]\n",
    "trace3 = f3['data'][0]\n",
    "trace4 = f4['data'][0]"
   ]
  },
  {
   "cell_type": "code",
   "execution_count": null,
   "metadata": {
    "id": "GSayfRJbasRy"
   },
   "outputs": [],
   "source": [
    "#making a subplot having two rows and two columns.\n",
    "fig = make_subplots(rows = 2, cols =2 , shared_xaxes = False,subplot_titles=(\"Order Purchase \", \"Order Delivery \", \"Order Approved \", \"Order Estimated Delivery \"))"
   ]
  },
  {
   "cell_type": "code",
   "execution_count": null,
   "metadata": {
    "colab": {
     "base_uri": "https://localhost:8080/",
     "height": 817
    },
    "id": "_LMSJE-pfKmT",
    "outputId": "609303c7-de5c-4ecf-af2a-9e7be91fcad4"
   },
   "outputs": [],
   "source": [
    "#adding traces in the figure\n",
    "fig.add_trace(trace1, row = 1, col = 1)\n",
    "fig.add_trace(trace2, row = 2, col = 1)\n",
    "fig.add_trace(trace3, row = 1, col = 2)\n",
    "fig.add_trace(trace4, row = 2, col = 2)\n",
    "fig.update_layout(height=800, width=800, title_text=\"Stacked Subplots\",plot_bgcolor='#F5FFFA')\n",
    "\n",
    "fig.update_xaxes(title_text=\"Days\")\n",
    "fig.update_yaxes(title_text='Count')\n",
    "\n",
    "fig.show()"
   ]
  },
  {
   "cell_type": "markdown",
   "metadata": {
    "id": "hCKEdNIc8m0t"
   },
   "source": [
    "Insights from subplots.\n",
    "\n",
    "*   `Order purchase` graph shows us that online shopping has be done throught the week days rather than weekend as it required minimal effort.\n",
    "\n",
    "*   `Order Approved` graph shows us the at what days order got approved on olist and by comparing them with first graph we can conclude that on **Mondays** most people buy there stuff and it got approved on very next day on **Tuesday** which can be seen in second graph.\n",
    "\n",
    "*   `Order Delivery` graph shows us the day of delivery and near about **19k** orders get delivered on first day of week while just **7000** items get delivered on weekends.\n",
    "\n",
    "*   `Order Estimated delivery` this graph shows us that **Olist e-commerce** skips to give estimated delivery on weekends as weekend tends to be resting day they prefer not to disturb there customers.\n",
    "\n",
    "\n"
   ]
  },
  {
   "cell_type": "markdown",
   "metadata": {
    "id": "oBSqZTEpyL0P"
   },
   "source": [
    "### Q9 Shopping hours\n",
    "9- At what time of the day does people of Brazil tends to do shopping?"
   ]
  },
  {
   "cell_type": "code",
   "execution_count": null,
   "metadata": {
    "id": "nrh1YXZ320eV"
   },
   "outputs": [],
   "source": [
    "hours_count = olist_orders_df.order_purchase_time_day.value_counts()"
   ]
  },
  {
   "cell_type": "code",
   "execution_count": null,
   "metadata": {
    "colab": {
     "base_uri": "https://localhost:8080/",
     "height": 575
    },
    "id": "kyme-VYx3Nfk",
    "outputId": "c29964e1-5592-4867-8815-b750ef2c58a8"
   },
   "outputs": [],
   "source": [
    "plt.figure(figsize=(12,10))\n",
    "plt.title('Dis')\n",
    "plt.pie(hours_count, labels=hours_count.index, autopct='%1.1f%%', startangle=180);"
   ]
  },
  {
   "cell_type": "markdown",
   "metadata": {
    "id": "jclZk7to4f-e"
   },
   "source": [
    "As we can see from the pie chart that **olist** recieves most of the orders at `afternoon` touching nearly `40%` and least at `early morning` which is pratically true."
   ]
  },
  {
   "cell_type": "markdown",
   "metadata": {
    "id": "B3qIcFrPJQWj"
   },
   "source": [
    "## CONCLUSION\n",
    "\n",
    "\n",
    "*   We have gone trough a extensive journey for understanding the data and plotting some useful charts to clarify the concepts and get insights from data.\n",
    "\n",
    "*   Credict card is most used for payments in olist which is true because credit card company provides most amount of offers for there customers.\n",
    "\n",
    "*   There are 74 different cateogry present in olist from where Brazilians can shop.\n",
    "\n",
    "*   It seems transportation cost(freight value) in olist is reasonable getting max upto 70 brazilian real.\n",
    "\n",
    "*  olist has nearly 97% successful delivery rate which shows there commitment towards the order and making this amount of successful deliveries will help them grow in near future.\n",
    "\n",
    "\n",
    "\n"
   ]
  },
  {
   "cell_type": "markdown",
   "metadata": {
    "id": "qx42_9W05yNE"
   },
   "source": [
    "## FUTURE WORK\n",
    "- In near future we can look at all the reviews and comments and will try to analyze what people thinks about olist store.\n",
    "\n",
    "- We can also use this dataset to map differently on graph as we have geo location of every pincode we can explore more into it.\n",
    "\n",
    "- One more thing we can do is to list pricing of the products and tends to compare it with freight values which will be nect step to analyze transportation costs.\n",
    "\n",
    "- Last but not the least we can try for a new olist dataset and comparing it will give us result whether its truly a geniune datset."
   ]
  },
  {
   "cell_type": "markdown",
   "metadata": {
    "id": "UGvmhzl8J9qo"
   },
   "source": [
    "## REFERENCES"
   ]
  },
  {
   "cell_type": "markdown",
   "metadata": {
    "id": "_thdWUV53w_S"
   },
   "source": [
    "- [Aakash N S. Analyzing Tabular Data with Pandas, 2021](https://jovian.ai/aakashns/python-pandas-data-analysis)\n",
    "\n",
    "- [Aakash N S. Data Visualization using Python Matplotlib and Seaborn](https://jovian.ai/aakashns/python-matplotlib-data-visualization) \n",
    "\n",
    "- [Aakash N S. Advanced Data Analysis Techniques with Python & Pandas](https://jovian.ai/aakashns/advanced-data-analysis-pandas)\n",
    "\n",
    "- [Aakash N S. Interactive Visualization with Plotly](https://jovian.ai/aakashns/interactive-visualization-plotly)\n",
    "\n",
    "- [Plotly Documentation](https://plotly.com/python/)\n",
    "\n",
    "- [Aakash N S. Plotly-line-chart](https://jovian.ai/aakashns/plotly-line-chart)\n",
    "\n",
    "- [Jovian EDA from strach](https://youtu.be/kLDTbavcmd0)"
   ]
  },
  {
   "cell_type": "code",
   "execution_count": null,
   "metadata": {
    "id": "J9djhAhKfJdw"
   },
   "outputs": [],
   "source": []
  },
  {
   "cell_type": "code",
   "execution_count": null,
   "metadata": {
    "id": "5cQSh_n2j6CD"
   },
   "outputs": [],
   "source": []
  }
 ],
 "metadata": {
  "colab": {
   "collapsed_sections": [],
   "name": "project-2-exploratory-data-analysis.ipynb",
   "provenance": []
  },
  "kernelspec": {
   "display_name": "Python 3 (ipykernel)",
   "language": "python",
   "name": "python3"
  },
  "language_info": {
   "codemirror_mode": {
    "name": "ipython",
    "version": 3
   },
   "file_extension": ".py",
   "mimetype": "text/x-python",
   "name": "python",
   "nbconvert_exporter": "python",
   "pygments_lexer": "ipython3",
   "version": "3.9.7"
  }
 },
 "nbformat": 4,
 "nbformat_minor": 1
}
